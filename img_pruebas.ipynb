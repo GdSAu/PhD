{
 "cells": [
  {
   "cell_type": "markdown",
   "metadata": {},
   "source": [
    "# Data extraction"
   ]
  },
  {
   "cell_type": "code",
   "execution_count": 1,
   "metadata": {},
   "outputs": [
    {
     "name": "stdout",
     "output_type": "stream",
     "text": [
      "Jupyter environment detected. Enabling Open3D WebVisualizer.\n",
      "[Open3D INFO] WebRTC GUI backend enabled.\n",
      "[Open3D INFO] WebRTCWindowSystem: HTTP handshake server disabled.\n"
     ]
    }
   ],
   "source": [
    "import os\n",
    "import open3d as o3d\n",
    "import octomap\n",
    "import torch\n",
    "import numpy as np\n",
    "from symlink import symbolic_dir\n",
    "from utils_o3d import Get_Pointcloud, Get_RGBD, scale_and_translate, Get_voxpoints"
   ]
  },
  {
   "cell_type": "code",
   "execution_count": 2,
   "metadata": {},
   "outputs": [
    {
     "name": "stdout",
     "output_type": "stream",
     "text": [
      "[Open3D INFO] EGL headless mode enabled.\n",
      "FEngine (64 bits) created at 0xb184950 (threading is enabled)\n",
      "EGL(1.5)\n",
      "OpenGL(4.1)\n"
     ]
    }
   ],
   "source": [
    "#print(\"Ingresa la dirección a la carpeta contenedora del banco de datos\")\n",
    "#direccion = input(\"Cúal es la dirección a la carpeta contenedora?:\") # Dataset acces\n",
    "direccion = 'objetos'\n",
    "x = os.listdir(direccion)\n",
    "carpeta = input(\"A que carpeta quieres acceder?: \") #object folder\n",
    "direccion_disco = '/mnt/6C24E28478939C77/Saulo/ProyectoPHD/'\n",
    "dir_carpeta = direccion_disco + direccion #+ \"/\" + carpeta\n",
    "if os.path.lexists(dir_carpeta + \"/meshes/texture.png\") == False:\n",
    "    symbolic_dir(dir_carpeta)\n",
    "    RGB = \"/RGB\"\n",
    "    Depth = \"/Depth\"\n",
    "    Point_cloud = \"/Point_cloud\"\n",
    "    Octree = \"/Octree\"\n",
    "    os.mkdir(dir_carpeta + RGB)\n",
    "    os.mkdir(dir_carpeta + Depth)\n",
    "    os.mkdir(dir_carpeta + Point_cloud)\n",
    "    os.mkdir(dir_carpeta + Octree)\n",
    "visualizar = input(\"Quieres visualizar el objeto? (presiona S en caso de sí):\") \n",
    "if visualizar == 'S'  or  visualizar == 's' :\n",
    "    mesh = o3d.io.read_triangle_mesh(dir_carpeta + '/meshes/model.obj', True) \n",
    "    orig = o3d.geometry.TriangleMesh.create_coordinate_frame()\n",
    "    o3d.visualization.draw_geometries([mesh])\n",
    "\n",
    "img_W = 1920\n",
    "img_H = 1080\n",
    "\n",
    "\n",
    "#Cargamos malla\n",
    "mesh = o3d.io.read_triangle_mesh(dir_carpeta + '/meshes/model.obj', True)\n",
    "material = o3d.visualization.rendering.MaterialRecord() # Create material\n",
    "material.albedo_img = o3d.io.read_image( dir_carpeta + '/meshes/texture.png') # Add texture\n",
    "mesh = scale_and_translate(mesh, scale_factor=0.39)\n",
    "\n",
    "# Raycasting\n",
    "mesh1 = o3d.t.geometry.TriangleMesh.from_legacy(mesh)\n",
    "scene = o3d.t.geometry.RaycastingScene()\n",
    "scene.add_triangles(mesh1)\n",
    "# render for RGBD images\n",
    "render = o3d.visualization.rendering.OffscreenRenderer(width=img_W, height=img_H) #Linux only\n",
    "render.scene.add_geometry('mesh', mesh, material)\n",
    "#Camera vectors setup\n",
    "cent = [0,0,.2]#mesh.get_center()\n",
    "up = [0, 1, 0]\n",
    "poses = np.load(\"esferas_v.npz\")\n",
    "fov = 45\n",
    "\n",
    "for i in range(0,len(poses[\"r\"])):\n",
    "\n",
    "    for j in [\"r\",\"r1\",\"r2\"]:  \n",
    "        eye = poses[j][i]\n",
    "        # RGBD and pointcloud extraction\n",
    "        Get_Pointcloud(scene, fov, cent, eye, up, img_W, img_H, dir_carpeta, j+'_'+str(i))\n",
    "        #Get_RGBD(render,  fov, cent, eye, up, dir_carpeta, j+'_'+str(i))\n",
    "        \n",
    "    \n"
   ]
  },
  {
   "cell_type": "markdown",
   "metadata": {},
   "source": [
    "# For multiple objects"
   ]
  },
  {
   "cell_type": "code",
   "execution_count": 2,
   "metadata": {},
   "outputs": [],
   "source": [
    "############# P A R A M E T R O S #####################################################################\n",
    "img_W = 1920\n",
    "img_H = 1080\n",
    "#Camera vectors setup\n",
    "cent = [0,0,.2]#mesh.get_center()\n",
    "up = [0, 1, 0]\n",
    "poses = np.load(\"esferas_v.npz\")\n",
    "fov = 45\n",
    "direccion = \"/mnt/6C24E28478939C77/Saulo/ProyectoPHD/\"#Direccion a carpeta contenedora\n",
    "objeto = \"objects\"\n",
    "dir_carpeta = direccion + objeto + \"/\"\n",
    "listado = os.listdir(dir_carpeta)\n",
    "#####################################################################################################\n",
    "\n",
    "for l in range (0,len(listado)):\n",
    "    puntos = Get_voxpoints()\n",
    "    direction = dir_carpeta + listado[l]\n",
    "    #Cargamos malla\n",
    "    mesh = o3d.io.read_triangle_mesh(direction + '/meshes/model.obj', True)\n",
    "    material = o3d.visualization.rendering.MaterialRecord() # Create material\n",
    "    material.albedo_img = o3d.io.read_image( direction + '/meshes/texture.png') # Add texture\n",
    "    mesh = scale_and_translate(mesh, scale_factor=0.39)\n",
    "\n",
    "    # Raycasting\n",
    "    mesh1 = o3d.t.geometry.TriangleMesh.from_legacy(mesh)\n",
    "    scene = o3d.t.geometry.RaycastingScene()\n",
    "    scene.add_triangles(mesh1)\n",
    "    for i in range(0,len(poses[\"r\"])):\n",
    "        for j in [\"r\",\"r1\",\"r2\"]:  \n",
    "            eye = poses[j][i]\n",
    "            # RGBD and pointcloud extraction\n",
    "            Get_Pointcloud(scene, fov, cent, eye, up, img_W, img_H, direction, j+'_'+str(i))\n",
    "            #Get_RGBD(render,  fov, cent, eye, up, dir_carpeta, j+'_'+str(i))\n",
    "\n",
    "    del mesh\n",
    "    del material\n",
    "    del mesh1\n",
    "    del scene"
   ]
  },
  {
   "cell_type": "code",
   "execution_count": null,
   "metadata": {},
   "outputs": [],
   "source": []
  }
 ],
 "metadata": {
  "kernelspec": {
   "display_name": "o3d",
   "language": "python",
   "name": "python3"
  },
  "language_info": {
   "codemirror_mode": {
    "name": "ipython",
    "version": 3
   },
   "file_extension": ".py",
   "mimetype": "text/x-python",
   "name": "python",
   "nbconvert_exporter": "python",
   "pygments_lexer": "ipython3",
   "version": "3.11.7"
  }
 },
 "nbformat": 4,
 "nbformat_minor": 2
}
