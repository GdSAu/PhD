{
 "cells": [
  {
   "cell_type": "markdown",
   "metadata": {},
   "source": [
    "# Predicción de NBV \n",
    "\n",
    "En este notebook implementaremos un sistema para reconstrucción via NBV haciendo uso de la arquitectura autoencoder y MLP\n",
    "\n",
    "* pedirá la dirección a la carpeta contenedora del objeto\n",
    "* Creará un link simbolico para acceder a las texturas (verifica si no existe ya) y carpetas para almacenar la información obtenida durante el proceso: \n",
    "    - Nubes de puntos\n",
    "    - RGB\n",
    "    - Profundidad\n",
    "* Despliega el objeto para verificar si es el que espera el usuario y debe confirmar si es correcto\n",
    "* Genera una posición y orientación random (podría extraerla de Hintertoiser), importante conocer el bounding box para no colisionar con el objeto\n",
    "* Inicia el proceso de reconstrucción\n",
    "* Captura información y almacena \n",
    "* Crea grid de 31x31x31\n",
    "* Procesamiento de IA\n",
    "* Condición si la cumple repite o finaliza\n",
    "* Reporte de métricas"
   ]
  },
  {
   "cell_type": "markdown",
   "metadata": {},
   "source": [
    "## TODO: guarda y visualizar nube de puntos e imagen"
   ]
  },
  {
   "cell_type": "code",
   "execution_count": 1,
   "metadata": {},
   "outputs": [
    {
     "name": "stdout",
     "output_type": "stream",
     "text": [
      "Jupyter environment detected. Enabling Open3D WebVisualizer.\n",
      "[Open3D INFO] WebRTC GUI backend enabled.\n",
      "[Open3D INFO] WebRTCWindowSystem: HTTP handshake server disabled.\n"
     ]
    }
   ],
   "source": [
    "import os\n",
    "import open3d as o3d\n",
    "import octomap\n",
    "import torch\n",
    "import numpy as np\n",
    "from symlink import symbolic_dir\n",
    "from utils_o3d import Get_Pointcloud, Get_RGBD, Get_octree, Get_PointcloudGT, scale_and_translate, Get_voxpoints\n",
    "from MLP import MLP\n",
    "from utils import net_position_nbv\n",
    "from dataset_download import download_collection\n",
    "from utils_metrics import chamfer_distance, Get_surface_coverage, stop_condition"
   ]
  },
  {
   "cell_type": "code",
   "execution_count": 2,
   "metadata": {},
   "outputs": [
    {
     "name": "stdout",
     "output_type": "stream",
     "text": [
      "Folder already exist, verify if dataset is downloaded\n"
     ]
    }
   ],
   "source": [
    "#pages is the number of objects you want to download\n",
    "download_collection(owner_name=\"GoogleResearch\", collection_name=\"Scanned Objects by Google Research\", folder=\"obj\", pages=2)"
   ]
  },
  {
   "cell_type": "code",
   "execution_count": 2,
   "metadata": {},
   "outputs": [],
   "source": [
    "if os.path.lexists(\"poses.npy\") == False:\n",
    "    from tesselation import hinter_sampling\n",
    "    poses, _ = hinter_sampling(50, radius = 1)\n",
    "    np.save(\"poses.npy\", poses)\n",
    "    print(\"teselando\")\n",
    "#print(\"Ingresa la dirección a la carpeta contenedora del banco de datos\")\n",
    "#direccion = input(\"Cúal es la dirección a la carpeta contenedora?:\") # Dataset acces\n",
    "direccion = 'objetos'\n",
    "x = os.listdir(direccion)\n",
    "carpeta = input(\"A que carpeta quieres acceder?: \") #object folder\n",
    "direccion_disco = '/mnt/6C24E28478939C77/Saulo/ProyectoPHD/'\n",
    "dir_carpeta = direccion_disco + direccion #+ \"/\" + carpeta\n",
    "if os.path.lexists(dir_carpeta + \"/meshes/texture.png\") == False:\n",
    "    symbolic_dir(dir_carpeta)\n",
    "    RGB = \"/RGB\"\n",
    "    Depth = \"/Depth\"\n",
    "    Point_cloud = \"/Point_cloud\"\n",
    "    Octree = \"/Octree\"\n",
    "    os.mkdir(dir_carpeta + RGB)\n",
    "    os.mkdir(dir_carpeta + Depth)\n",
    "    os.mkdir(dir_carpeta + Point_cloud)\n",
    "    os.mkdir(dir_carpeta + Octree)\n",
    "visualizar = input(\"Quieres visualizar el objeto? (presiona S en caso de sí):\") \n",
    "if visualizar == 'S'  or  visualizar == 's' :\n",
    "    mesh = o3d.io.read_triangle_mesh(dir_carpeta + '/meshes/model.obj', True) \n",
    "    orig = o3d.geometry.TriangleMesh.create_coordinate_frame()\n",
    "    o3d.visualization.draw_geometries([mesh])"
   ]
  },
  {
   "cell_type": "code",
   "execution_count": null,
   "metadata": {},
   "outputs": [],
   "source": [
    "if os.path.lexists(\"poses.npy\") == False:\n",
    "    from tesselation import hinter_sampling\n",
    "    poses, _ = hinter_sampling(50, radius = 1)\n",
    "    np.save(\"poses.npy\", poses)\n",
    "    print(\"teselando\")\n",
    "#print(\"Ingresa la dirección a la carpeta contenedora del banco de datos\")\n",
    "#direccion = input(\"Cúal es la dirección a la carpeta contenedora?:\") # Dataset acces\n",
    "direccion = 'objetos'\n",
    "x = os.listdir(direccion)\n",
    "carpeta = input(\"A que carpeta quieres acceder?: \") #object folder\n",
    "direccion_disco = '/mnt/6C24E28478939C77/Saulo/ProyectoPHD/'\n",
    "dir_carpeta = direccion_disco + direccion #+ \"/\" + carpeta\n",
    "if os.path.lexists(dir_carpeta + \"/meshes/texture.png\") == False:\n",
    "    symbolic_dir(dir_carpeta)\n",
    "    RGB = \"/RGB\"\n",
    "    Depth = \"/Depth\"\n",
    "    Point_cloud = \"/Point_cloud\"\n",
    "    Octree = \"/Octree\"\n",
    "    os.mkdir(dir_carpeta + RGB)\n",
    "    os.mkdir(dir_carpeta + Depth)\n",
    "    os.mkdir(dir_carpeta + Point_cloud)\n",
    "    os.mkdir(dir_carpeta + Octree)\n",
    "visualizar = input(\"Quieres visualizar el objeto? (presiona S en caso de sí):\") \n",
    "if visualizar == 'S'  or  visualizar == 's' :\n",
    "    mesh = o3d.io.read_triangle_mesh(dir_carpeta + '/meshes/model.obj', True) \n",
    "    orig = o3d.geometry.TriangleMesh.create_coordinate_frame()\n",
    "    o3d.visualization.draw_geometries([mesh])\n",
    "\n",
    "img_W = 100\n",
    "img_H = 100\n",
    "#Cargamos los modelos de predicción de posición\n",
    "model= MLP().cuda() \n",
    "path_weights = '/mnt/6C24E28478939C77/Saulo/ProyectoPHD/position/weights_entrenamiento_MLP_xavier_normal_2.pth' ## Modificar direccion de pesos\n",
    "model.load_state_dict(torch.load(path_weights))\n",
    "device = torch.cuda.current_device()\n",
    "\n",
    "#Inicializamos el octomap\n",
    "resolution = 0.01 # resolucion del octree\n",
    "octree = octomap.OcTree(resolution) # inicializamos el octree\n",
    "\n",
    "#Cargamos malla\n",
    "mesh = o3d.io.read_triangle_mesh(dir_carpeta + '/meshes/model.obj', True)\n",
    "material = o3d.visualization.rendering.MaterialRecord() # Create material\n",
    "material.albedo_img = o3d.io.read_image( dir_carpeta + '/meshes/texture.png') # Add texture\n",
    "mesh = scale_and_translate(mesh, scale_factor=0.39)\n",
    "#Obtenemos pointcloud GT\n",
    "Get_PointcloudGT(dir_carpeta, mesh)\n",
    "\n",
    "# Raycasting\n",
    "mesh1 = o3d.t.geometry.TriangleMesh.from_legacy(mesh)\n",
    "scene = o3d.t.geometry.RaycastingScene()\n",
    "scene.add_triangles(mesh1)\n",
    "# render for RGBD images\n",
    "render = o3d.visualization.rendering.OffscreenRenderer(width=img_W, height=img_H) #Linux only\n",
    "render.scene.add_geometry('mesh', mesh, material)\n",
    "#Camera vectors setup\n",
    "cent = [0,0,.2]#mesh.get_center()\n",
    "up = [0, 1, 0]\n",
    "poses = np.load(\"poses.npy\")\n",
    "eye = [-1,-1,.5]\n",
    "fov = 25\n",
    "puntos = Get_voxpoints()\n",
    "#occupancy_probs = np.ndarray([29791], dtype=float)\n",
    "#occupancy_probs = np.full((29791), 0.5)\n",
    "\n",
    "metricas = {\"objeto\": [], \"chamfer\": [], \"distancia\": [], \"vistas\": []}\n",
    "metricas[\"objeto\"].append(carpeta)\n",
    "print(\"Inicia el proceso de reconstrucción ...\")\n",
    "#while condicion == False:\n",
    "for i in range(0,15):    \n",
    "\n",
    "    # RGBD and pointcloud extraction\n",
    "    Get_Pointcloud(scene, fov, cent, eye, up, img_W, img_H, dir_carpeta, i)\n",
    "    Get_RGBD(render,  fov, cent, eye, up, dir_carpeta, i)\n",
    "    #Occupancy grid\n",
    "    occupancy_probs =  Get_octree(octree, dir_carpeta, i, eye, puntos) #occupancy_probs)\n",
    "    direccion_octree= bytes(dir_carpeta + \"/Octree/octree_{}.ot\".format(i), encoding='utf8')\n",
    "    octree.writeBinary(direccion_octree) \n",
    "    np.save(dir_carpeta + \"/Octree/grid_{}.npy\".format(i),occupancy_probs, allow_pickle=True)\n",
    "    ## Aqui evaluamos si esta completo el modelo en este punto\n",
    "    CD = chamfer_distance(dir_carpeta)\n",
    "    if i > 0:\n",
    "        ind, _ = Get_surface_coverage(dir_carpeta, i)\n",
    "        condicion, Distance = stop_condition(dir_carpeta,ind,i)\n",
    "    else: \n",
    "        condicion = False\n",
    "        Distance = 0.0\n",
    "    print(\"Chamfer Distance: {}, Cloud distances: {}, # view: {}\".format(CD, Distance, i))\n",
    "    metricas[\"chamfer\"].append(CD)\n",
    "    metricas[\"distancia\"].append(Distance)\n",
    "    if condicion == True:\n",
    "        break\n",
    "    ## De no estarlo, se consulta a la NN el NBV \n",
    "    else:\n",
    "        grid = np.reshape(occupancy_probs, (1,1,31,31,31))  \n",
    "        torch_grid = torch.from_numpy(grid)\n",
    "        #IA-NBV\n",
    "        output = net_position_nbv(model, torch_grid, device) \n",
    "        eye = output.numpy().reshape(3,).astype(\"double\") \n",
    "    print(\"nbv:\", eye)\n",
    "\n",
    "metricas[\"vistas\"].append(i)\n",
    "print(metricas)   \n",
    "print(\"Volví, tonotos!\")\n",
    "#almacena las métricas de error en archivo NPZ\n",
    "np.savez('metricas.npz', obj=metricas[\"objeto\"] ,chamfer = metricas[\"chamfer\"], distancias = metricas[\"distancia\"], numero=metricas[\"vistas\"])"
   ]
  },
  {
   "cell_type": "code",
   "execution_count": null,
   "metadata": {},
   "outputs": [],
   "source": [
    "o3d.visualization.draw_geometries([mesh])"
   ]
  },
  {
   "cell_type": "markdown",
   "metadata": {},
   "source": [
    "## Pruebas de MAtrices"
   ]
  },
  {
   "cell_type": "code",
   "execution_count": null,
   "metadata": {},
   "outputs": [],
   "source": [
    "import open3d as o3d\n",
    "import numpy as np \n",
    "from utils_camera import save_camera_trayectory"
   ]
  },
  {
   "cell_type": "code",
   "execution_count": null,
   "metadata": {},
   "outputs": [],
   "source": [
    "eye = np.load(\"poses.npy\")\n",
    "center = [0,0,.2]#mesh.get_center()\n",
    "up = [0, 1, 0]\n",
    "fov = 25\n",
    "width = 100\n",
    "height = 100\n",
    "direccion = \"objetos\""
   ]
  },
  {
   "cell_type": "code",
   "execution_count": null,
   "metadata": {},
   "outputs": [],
   "source": [
    "save_camera_trayectory(direccion, eye[:20], center, up, fov, width, height)"
   ]
  },
  {
   "cell_type": "markdown",
   "metadata": {},
   "source": [
    "## Pruebas ploteo trayectoria"
   ]
  },
  {
   "cell_type": "code",
   "execution_count": 1,
   "metadata": {},
   "outputs": [
    {
     "name": "stdout",
     "output_type": "stream",
     "text": [
      "Jupyter environment detected. Enabling Open3D WebVisualizer.\n",
      "[Open3D INFO] WebRTC GUI backend enabled.\n",
      "[Open3D INFO] WebRTCWindowSystem: HTTP handshake server disabled.\n"
     ]
    }
   ],
   "source": [
    "import open3d as o3d\n",
    "import numpy as np\n",
    "#from utils_o3d import camara\n",
    "from utils_visualizer import draw_camera\n",
    "#param = o3d.io.read_pinhole_camera_parame]ters(\"viewpoint.json\")\n",
    "#ctr.convert_from_pinhole_camera_parameters(param)"
   ]
  },
  {
   "cell_type": "code",
   "execution_count": 2,
   "metadata": {},
   "outputs": [],
   "source": [
    "direccion = \"objetos\"\n",
    "param = o3d.io.read_pinhole_camera_trajectory(direccion + \"/trayectoria_camara.json\")"
   ]
  },
  {
   "cell_type": "code",
   "execution_count": 3,
   "metadata": {},
   "outputs": [],
   "source": [
    "frames = []\n",
    "scale = 1.0\n",
    "color=[0.8,0.2,0.8]\n",
    "for i in range (0,len(param.parameters)):\n",
    "    extrinsic = param.parameters[i].extrinsic\n",
    "    intrinsic = param.parameters[i].intrinsic.intrinsic_matrix\n",
    "    width = param.parameters[i].intrinsic.width\n",
    "    height = param.parameters[i].intrinsic.height\n",
    "    camera_model = draw_camera(intrinsic, extrinsic, width, height)\n",
    "    frames.extend(camera_model)\n",
    "    #for i in frames:\n",
    "    #    self.__vis.add_geometry(i)\n"
   ]
  },
  {
   "cell_type": "code",
   "execution_count": 4,
   "metadata": {},
   "outputs": [],
   "source": [
    "mesh = o3d.io.read_triangle_mesh('obj/Marvel_Avengers_Titan_Hero_Series_Doctor_Doom/meshes/model.obj', True) \n",
    "frames.append(mesh)\n",
    "o3d.visualization.draw_geometries(frames)"
   ]
  },
  {
   "cell_type": "markdown",
   "metadata": {},
   "source": [
    "## Extras"
   ]
  },
  {
   "cell_type": "code",
   "execution_count": null,
   "metadata": {},
   "outputs": [],
   "source": [
    "import open3d as o3d\n",
    "import numpy as np\n",
    "import octomap\n",
    "import trimesh\n",
    "import matplotlib.pyplot as plt\n",
    "import cv2\n",
    "from utils_o3d import scale_and_translate, Get_voxpoints"
   ]
  },
  {
   "cell_type": "code",
   "execution_count": null,
   "metadata": {
    "metadata": {}
   },
   "outputs": [],
   "source": [
    "from classification_nbv import showGrid, showGrid4\n",
    "import numpy as np"
   ]
  },
  {
   "cell_type": "code",
   "execution_count": null,
   "metadata": {},
   "outputs": [],
   "source": [
    "occupancy_probs = np.load('/mnt/6C24E28478939C77/Saulo/ProyectoPHD/objetos'+'/Octree/grid_6.npy')"
   ]
  },
  {
   "cell_type": "code",
   "execution_count": null,
   "metadata": {},
   "outputs": [],
   "source": [
    "model= MLP().cuda() \n",
    "path_weights = '/mnt/6C24E28478939C77/Saulo/ProyectoPHD/position/weights_entrenamiento_MLP_xavier_normal_2.pth' ## Modificar direccion de pesos\n",
    "model.load_state_dict(torch.load(path_weights))\n",
    "device = torch.cuda.current_device()"
   ]
  },
  {
   "cell_type": "code",
   "execution_count": null,
   "metadata": {},
   "outputs": [],
   "source": [
    "grid = np.reshape(occupancy_probs, (1,1,31,31,31))  \n",
    "torch_grid = torch.from_numpy(grid)\n",
    "#IA-NBV\n",
    "output = net_position_nbv(model, torch_grid, device)\n",
    "output"
   ]
  },
  {
   "cell_type": "code",
   "execution_count": null,
   "metadata": {},
   "outputs": [],
   "source": [
    "occupancy_probs1 = np.ndarray([29791], dtype=float)\n",
    "print(occupancy_probs1)"
   ]
  },
  {
   "cell_type": "code",
   "execution_count": null,
   "metadata": {},
   "outputs": [],
   "source": [
    "np.set_printoptions(threshold = np.inf,precision=4, suppress=True)\n",
    "print(occupancy_probs)"
   ]
  },
  {
   "cell_type": "code",
   "execution_count": null,
   "metadata": {},
   "outputs": [],
   "source": [
    "showGrid(oc_prob, \"1.png\")"
   ]
  },
  {
   "cell_type": "code",
   "execution_count": null,
   "metadata": {},
   "outputs": [],
   "source": [
    "showGrid4(occupancy_probs)"
   ]
  },
  {
   "cell_type": "code",
   "execution_count": null,
   "metadata": {},
   "outputs": [],
   "source": [
    "mesh.get_axis_aligned_bounding_box()"
   ]
  },
  {
   "cell_type": "code",
   "execution_count": null,
   "metadata": {},
   "outputs": [],
   "source": [
    "del octree\n",
    "del mesh\n",
    "del mesh1\n",
    "del material\n",
    "del scene\n",
    "del render"
   ]
  },
  {
   "cell_type": "code",
   "execution_count": null,
   "metadata": {},
   "outputs": [],
   "source": [
    "del scene\n",
    "del render"
   ]
  },
  {
   "cell_type": "markdown",
   "metadata": {},
   "source": [
    "## Reconstrucción pato (dataset entrenamiento)"
   ]
  },
  {
   "cell_type": "code",
   "execution_count": null,
   "metadata": {},
   "outputs": [],
   "source": [
    "mesh = o3d.io.read_triangle_mesh('duck/mesh.ply')\n",
    "o3d.visualization.draw_geometries([mesh])"
   ]
  },
  {
   "cell_type": "code",
   "execution_count": null,
   "metadata": {},
   "outputs": [],
   "source": [
    "if os.path.lexists(\"poses.npy\") == False:\n",
    "    from tesselation import hinter_sampling\n",
    "    poses, _ = hinter_sampling(50, radius = 1)\n",
    "    np.save(\"poses.npy\", poses)\n",
    "    print(\"teselando\")\n",
    "#print(\"Ingresa la dirección a la carpeta contenedora del banco de datos\")\n",
    "#direccion = input(\"Cúal es la dirección a la carpeta contenedora?:\") # Dataset acces\n",
    "direccion = 'duck'\n",
    "x = os.listdir(direccion)\n",
    "#carpeta = input(\"A que carpeta quieres acceder?: \") #object folder\n",
    "direccion_disco = '/mnt/6C24E28478939C77/Saulo/ProyectoPHD/'\n",
    "dir_carpeta = direccion_disco + direccion #+ \"/\" + carpeta\n",
    "#symbolic_dir(dir_carpeta)\n",
    "#RGB = \"/RGB\"\n",
    "#Depth = \"/Depth\"\n",
    "#Point_cloud = \"/Point_cloud\"\n",
    "#Octree = \"/Octree\"\n",
    "#os.mkdir(dir_carpeta + RGB)\n",
    "#os.mkdir(dir_carpeta + Depth)\n",
    "#os.mkdir(dir_carpeta + Point_cloud)\n",
    "#os.mkdir(dir_carpeta + Octree)\n",
    "visualizar = input(\"Quieres visualizar el objeto? (presiona S en caso de sí):\") \n",
    "if visualizar == 'S'  or  visualizar == 's' :\n",
    "    mesh = o3d.io.read_triangle_mesh(dir_carpeta + '/mesh.ply', True) \n",
    "    o3d.visualization.draw_geometries([mesh])\n",
    "\n",
    "img_W = 100\n",
    "img_H = 100\n",
    "#Cargamos los modelos de predicción de posición\n",
    "model= MLP().cuda() \n",
    "path_weights = '/mnt/6C24E28478939C77/Saulo/ProyectoPHD/position/weights_entrenamiento_MLP_xavier_normal_2.pth' ## Modificar direccion de pesos\n",
    "model.load_state_dict(torch.load(path_weights))\n",
    "device = torch.cuda.current_device()\n",
    "\n",
    "#Inicializamos el octomap\n",
    "resolution = 0.01 # resolucion del octree\n",
    "octree = octomap.OcTree(resolution) # inicializamos el octree\n",
    "\n",
    "#Cargamos malla\n",
    "mesh = o3d.io.read_triangle_mesh(dir_carpeta + '/mesh.ply', True)\n",
    "material = o3d.visualization.rendering.MaterialRecord() # Create material\n",
    "material.albedo_img = o3d.io.read_image( dir_carpeta + '/texture.png') # Add texture\n",
    "max = mesh.get_max_bound()\n",
    "scale = 0.4/np.max(max)\n",
    "mesh.scale(scale, center= [0,0,.2])#Scale mesh\n",
    "traslacion = [-.1,-.1,0]- np.asarray(mesh.get_min_bound())\n",
    "#traslacion =  [0,0,traslacion]\n",
    "mesh.translate(traslacion) #translate mesh\n",
    "max = mesh.get_max_bound()\n",
    "scale = 0.4/np.max(max)\n",
    "mesh.scale(scale, center= [0,0,.2])#Scale mesh\n",
    "traslacion = [-.18,-.18,0]- np.asarray(mesh.get_min_bound())\n",
    "#traslacion =  [0,0,traslacion]\n",
    "mesh.translate(traslacion) #translate mesh\n",
    "#Obtenemos pointcloud GT\n",
    "Get_PointcloudGT(dir_carpeta, mesh)\n",
    "\n",
    "# Raycasting\n",
    "mesh1 = o3d.t.geometry.TriangleMesh.from_legacy(mesh)\n",
    "scene = o3d.t.geometry.RaycastingScene()\n",
    "scene.add_triangles(mesh1)\n",
    "# render for RGBD images\n",
    "render = o3d.visualization.rendering.OffscreenRenderer(width=img_W, height=img_H) #Linux only\n",
    "render.scene.add_geometry('mesh', mesh, material)\n",
    "#Camera vectors setup\n",
    "cent = mesh.get_center()\n",
    "up = [0, 1, 0]\n",
    "poses = np.load(\"poses.npy\")\n",
    "eye = [-1,-1,.5]\n",
    "fov = 30\n",
    "puntos = Get_voxpoints()\n",
    "#occupancy_probs = np.ndarray([29791], dtype=float)\n",
    "#occupancy_probs = np.full((29791), 0.5)\n",
    "\n",
    "metricas = {\"objeto\": [], \"chamfer\": [], \"distancia\": [], \"vistas\": []}\n",
    "metricas[\"objeto\"].append(direccion)\n",
    "print(\"Inicia el proceso de reconstrucción ...\")\n",
    "#while condicion == False:\n",
    "for i in range(0,20):    \n",
    "\n",
    "    # RGBD and pointcloud extraction\n",
    "    Get_Pointcloud(scene, fov, cent, eye, up, img_W, img_H, dir_carpeta, i)\n",
    "    Get_RGBD(render,  fov, cent, eye, up, dir_carpeta, i)\n",
    "    #Occupancy grid\n",
    "    occupancy_probs =  Get_octree(octree, dir_carpeta, i, eye, puntos) #occupancy_probs)\n",
    "    direccion_octree= bytes(dir_carpeta + \"/Octree/octree_{}.ot\".format(i), encoding='utf8')\n",
    "    octree.writeBinary(direccion_octree) \n",
    "    np.save(dir_carpeta + \"/Octree/grid_{}.npy\".format(i),occupancy_probs, allow_pickle=True)\n",
    "    ## Aqui evaluamos si esta completo el modelo en este punto\n",
    "    CD = chamfer_distance(dir_carpeta)\n",
    "    if i > 0:\n",
    "        ind, _ = Get_surface_coverage(dir_carpeta, i)\n",
    "        condicion, Distance = stop_condition(dir_carpeta,ind,i)\n",
    "    else: \n",
    "        condicion = False\n",
    "        Distance = 0.0\n",
    "    print(\"Chamfer Distance: {}, Cloud distances: {}, # view: {}\".format(CD, Distance, i))\n",
    "    metricas[\"chamfer\"].append(CD)\n",
    "    metricas[\"distancia\"].append(Distance)\n",
    "    if condicion == True:\n",
    "        break\n",
    "    ## De no estarlo, se consulta a la NN el NBV \n",
    "    else:\n",
    "        grid = np.reshape(occupancy_probs, (1,1,31,31,31))  \n",
    "        torch_grid = torch.from_numpy(grid)\n",
    "        #IA-NBV\n",
    "        output = net_position_nbv(model, torch_grid, device) \n",
    "        eye = output.numpy().reshape(3,).astype(\"double\") \n",
    "    print(\"nbv:\", eye)\n",
    "\n",
    "metricas[\"vistas\"].append(i)\n",
    "print(metricas)   \n",
    "print(\"Volví, tonotos!\")\n",
    "#almacena las métricas de error en archivo NPZ\n",
    "np.savez('metricas_duck.npz', obj=metricas[\"objeto\"] ,chamfer = metricas[\"chamfer\"], distancias = metricas[\"distancia\"], numero=metricas[\"vistas\"])"
   ]
  },
  {
   "cell_type": "code",
   "execution_count": null,
   "metadata": {},
   "outputs": [],
   "source": [
    "mesh.get_axis_aligned_bounding_box()"
   ]
  },
  {
   "cell_type": "code",
   "execution_count": null,
   "metadata": {},
   "outputs": [],
   "source": [
    "import open3d as o3d"
   ]
  },
  {
   "cell_type": "code",
   "execution_count": null,
   "metadata": {},
   "outputs": [],
   "source": [
    "nube = o3d.io.read_point_cloud('/mnt/6C24E28478939C77/Saulo/ProyectoPHD/obj/'+'2_of_Jenga_Classic_Game'+\"/Point_cloud/cloud_0.pcd\")"
   ]
  },
  {
   "cell_type": "code",
   "execution_count": null,
   "metadata": {},
   "outputs": [],
   "source": [
    "del mesh"
   ]
  },
  {
   "cell_type": "code",
   "execution_count": null,
   "metadata": {},
   "outputs": [],
   "source": [
    "mesh = o3d.io.read_triangle_mesh('duck/mesh.ply')"
   ]
  },
  {
   "cell_type": "code",
   "execution_count": null,
   "metadata": {},
   "outputs": [],
   "source": [
    "mesh.get_axis_aligned_bounding_box()"
   ]
  },
  {
   "cell_type": "code",
   "execution_count": null,
   "metadata": {},
   "outputs": [],
   "source": [
    "max = mesh.get_max_bound()\n",
    "scale = 0.4/np.max(max)\n",
    "mesh.scale(scale, center= [0,0,.2])#Scale mesh\n",
    "traslacion = [-.1,-.1,0]- np.asarray(mesh.get_min_bound())\n",
    "#traslacion =  [0,0,traslacion]\n",
    "mesh.translate(traslacion) #translate mesh\n",
    "max = mesh.get_max_bound()\n",
    "scale = 0.4/np.max(max)\n",
    "mesh.scale(scale, center= [0,0,.2])#Scale mesh\n",
    "traslacion = [-.1,-.1,0]- np.asarray(mesh.get_min_bound())\n",
    "#traslacion =  [0,0,traslacion]\n",
    "mesh.translate(traslacion) #translate mesh\n",
    "mesh.get_axis_aligned_bounding_box()"
   ]
  },
  {
   "cell_type": "code",
   "execution_count": null,
   "metadata": {},
   "outputs": [],
   "source": [
    "\n",
    "\n",
    "\n",
    "\n",
    "\n",
    "\n",
    "mesh.get_max_bound()"
   ]
  },
  {
   "cell_type": "code",
   "execution_count": null,
   "metadata": {},
   "outputs": [],
   "source": [
    "o3d.visualization.draw_geometries([mesh])"
   ]
  },
  {
   "cell_type": "code",
   "execution_count": null,
   "metadata": {},
   "outputs": [],
   "source": [
    "traslacion = - np.asarray(mesh.get_min_bound())[2]\n",
    "traslacion =  [0,0,traslacion]\n",
    "mesh.translate(traslacion) #translate mesh\n",
    "o3d.visualization.draw_geometries([mesh])"
   ]
  },
  {
   "cell_type": "code",
   "execution_count": null,
   "metadata": {},
   "outputs": [],
   "source": [
    "mesh.get_axis_aligned_bounding_box()"
   ]
  },
  {
   "cell_type": "code",
   "execution_count": null,
   "metadata": {},
   "outputs": [],
   "source": [
    "mesh.get_center()"
   ]
  },
  {
   "cell_type": "code",
   "execution_count": null,
   "metadata": {},
   "outputs": [],
   "source": [
    "import open3d as o3d\n",
    "import numpy as np"
   ]
  },
  {
   "cell_type": "code",
   "execution_count": null,
   "metadata": {},
   "outputs": [],
   "source": [
    "demo_crop_data = o3d.data.DemoCropPointCloud()\n",
    "pcd = o3d.io.read_point_cloud(demo_crop_data.point_cloud_path)\n",
    "vol = o3d.visualization.read_selection_polygon_volume(demo_crop_data.cropped_json_path)\n",
    "chair = vol.crop_point_cloud(pcd)\n",
    "\n",
    "dists = pcd.compute_point_cloud_distance(chair)\n",
    "dists = np.asarray(dists)\n",
    "ind = np.where(dists > 0.01)[0]\n",
    "pcd_without_chair = pcd.select_by_index(ind)\n",
    "o3d.visualization.draw_geometries([pcd_without_chair],\n",
    "                                  zoom=0.3412,\n",
    "                                  front=[0.4257, -0.2125, -0.8795],\n",
    "                                  lookat=[2.6172, 2.0475, 1.532],\n",
    "                                  up=[-0.0694, -0.9768, 0.2024])"
   ]
  },
  {
   "cell_type": "code",
   "execution_count": null,
   "metadata": {},
   "outputs": [],
   "source": [
    "dists1 = pcd.compute_mahalanobis_distance()\n",
    "dists1 = np.asarray(dists1)\n",
    "ind1 = np.where(dists1 > 0.01)[0]\n",
    "pcd_without_chair1 = pcd.select_by_index(ind1)\n",
    "o3d.visualization.draw_geometries([pcd_without_chair1],\n",
    "                                  zoom=0.3412,\n",
    "                                  front=[0.4257, -0.2125, -0.8795],\n",
    "                                  lookat=[2.6172, 2.0475, 1.532],\n",
    "                                  up=[-0.0694, -0.9768, 0.2024])"
   ]
  },
  {
   "cell_type": "code",
   "execution_count": null,
   "metadata": {},
   "outputs": [],
   "source": [
    "dists1 = pcd.compute_nearest_neighbor_distance()\n",
    "dists1 = np.asarray(dists1)\n",
    "ind1 = np.where(dists1 > 0.004)[0]\n",
    "pcd_without_chair1 = pcd.select_by_index(ind1)\n",
    "o3d.visualization.draw_geometries([pcd_without_chair1],\n",
    "                                  zoom=0.3412,\n",
    "                                  front=[0.4257, -0.2125, -0.8795],\n",
    "                                  lookat=[2.6172, 2.0475, 1.532],\n",
    "                                  up=[-0.0694, -0.9768, 0.2024])"
   ]
  },
  {
   "cell_type": "code",
   "execution_count": null,
   "metadata": {},
   "outputs": [],
   "source": [
    "p_c = o3d.io.read_point_cloud(\"obj/2_of_Jenga_Classic_Game/Point_cloud/cloud_acc.pcd\")\n",
    "#o3d.visualization.draw_geometries([p_c])"
   ]
  },
  {
   "cell_type": "code",
   "execution_count": null,
   "metadata": {},
   "outputs": [],
   "source": [
    "pcd = o3d.io.read_point_cloud(\"obj/2_of_Jenga_Classic_Game/Point_cloud/cloud_8.pcd\")"
   ]
  },
  {
   "cell_type": "code",
   "execution_count": null,
   "metadata": {},
   "outputs": [],
   "source": [
    "p_c.Type"
   ]
  },
  {
   "cell_type": "code",
   "execution_count": null,
   "metadata": {},
   "outputs": [],
   "source": [
    "size = np.asarray(mesh.vertices).shape[0]"
   ]
  },
  {
   "cell_type": "code",
   "execution_count": null,
   "metadata": {},
   "outputs": [],
   "source": [
    "mesh.compute_vertex_normals()\n",
    "o3d.visualization.draw_geometries([mesh])\n",
    "pcd = mesh.sample_points_uniformly(number_of_points=size*10)\n",
    "o3d.visualization.draw_geometries([pcd])"
   ]
  },
  {
   "cell_type": "code",
   "execution_count": null,
   "metadata": {},
   "outputs": [],
   "source": [
    "pcd.Type"
   ]
  },
  {
   "cell_type": "code",
   "execution_count": null,
   "metadata": {},
   "outputs": [],
   "source": [
    "o3d.visualization.draw_geometries([pcd])"
   ]
  },
  {
   "cell_type": "code",
   "execution_count": null,
   "metadata": {},
   "outputs": [],
   "source": [
    "np.asarray(pcd.points).shape"
   ]
  },
  {
   "cell_type": "code",
   "execution_count": null,
   "metadata": {},
   "outputs": [],
   "source": [
    "dists.shape"
   ]
  },
  {
   "cell_type": "code",
   "execution_count": null,
   "metadata": {},
   "outputs": [],
   "source": [
    "len(p_c.points)"
   ]
  },
  {
   "cell_type": "code",
   "execution_count": null,
   "metadata": {},
   "outputs": [],
   "source": [
    "len(pcd.points)"
   ]
  },
  {
   "cell_type": "code",
   "execution_count": null,
   "metadata": {},
   "outputs": [],
   "source": [
    "dist = np.asarray(p_c.compute_point_cloud_distance(p_c))\n",
    "ind = np.where(dist < 0.0037)[0]\n",
    "pcd_wo = p_c.select_by_index(ind, invert=True) \n",
    "o3d.visualization.draw_geometries([pcd_wo])"
   ]
  },
  {
   "cell_type": "code",
   "execution_count": null,
   "metadata": {},
   "outputs": [],
   "source": [
    "len(pcd_wo.points)"
   ]
  },
  {
   "cell_type": "code",
   "execution_count": null,
   "metadata": {},
   "outputs": [],
   "source": [
    "np.savez('/kaggle/working/entrenamiento_mlp_7.npz', entrenamiento = losses[\"entrenamiento\"], validación = losses[\"validación\"])"
   ]
  },
  {
   "cell_type": "code",
   "execution_count": null,
   "metadata": {},
   "outputs": [],
   "source": [
    "direccion_disco = '/mnt/6C24E28478939C77/Saulo/ProyectoPHD/obj/2_of_Jenga_Classic_Game'"
   ]
  },
  {
   "cell_type": "code",
   "execution_count": null,
   "metadata": {},
   "outputs": [],
   "source": [
    "Get_cloud_distance(direccion_disco,9, umbral= 0.0037)"
   ]
  },
  {
   "cell_type": "code",
   "execution_count": null,
   "metadata": {},
   "outputs": [],
   "source": [
    "chamfer_distance(np.asarray(p_c.points),np.asarray(pcd.points))"
   ]
  },
  {
   "cell_type": "code",
   "execution_count": null,
   "metadata": {},
   "outputs": [],
   "source": [
    "losses = {\"objeto\": [], \"chamfer\": [], \"distancia\": [], \"vistas\": []}"
   ]
  },
  {
   "cell_type": "code",
   "execution_count": null,
   "metadata": {},
   "outputs": [],
   "source": []
  },
  {
   "cell_type": "code",
   "execution_count": null,
   "metadata": {},
   "outputs": [],
   "source": [
    "arrays = np.zeros((15))\n",
    "arrys1 = np.ones((15))\n",
    "vista = 5\n"
   ]
  },
  {
   "cell_type": "code",
   "execution_count": null,
   "metadata": {},
   "outputs": [],
   "source": [
    "losses[\"objeto\"].append(\"primero\")\n",
    "losses[\"chamfer\"].append(arrays[vista*0:vista*1])\n",
    "losses[\"distancia\"].append(arrys1[vista*0:vista*1])\n",
    "losses[\"vistas\"].append(vista)"
   ]
  },
  {
   "cell_type": "code",
   "execution_count": null,
   "metadata": {},
   "outputs": [],
   "source": [
    "losses[\"objeto\"].append(\"segundo\")\n",
    "losses[\"chamfer\"].append(arrays[vista*1:vista*2])\n",
    "losses[\"distancia\"].append(arrys1[vista*1:vista*2])\n",
    "losses[\"vistas\"].append(vista)"
   ]
  },
  {
   "cell_type": "code",
   "execution_count": null,
   "metadata": {},
   "outputs": [],
   "source": [
    "losses.clear()"
   ]
  },
  {
   "cell_type": "code",
   "execution_count": null,
   "metadata": {},
   "outputs": [],
   "source": [
    "losses"
   ]
  },
  {
   "cell_type": "code",
   "execution_count": null,
   "metadata": {},
   "outputs": [],
   "source": [
    "np.savez('/kaggle/working/entrenamiento_mlp_7.npz', entrenamiento = losses[\"entrenamiento\"], validación = losses[\"validación\"])"
   ]
  },
  {
   "cell_type": "markdown",
   "metadata": {},
   "source": [
    "### Ploteo de rejilla probabilista\n",
    "\n",
    "TODO:\n",
    "- extraer nombre de carpetas\n",
    "- recorrer carpeta a carpeta\n",
    "    - extraer el número de capturas realizadas\n",
    "    - recorrer objetos .npy\n",
    "    - plotear y almacenar imagen\n",
    "- Fin\n"
   ]
  },
  {
   "cell_type": "code",
   "execution_count": null,
   "metadata": {},
   "outputs": [],
   "source": [
    "import os\n",
    "from classification_nbv import showGrid\n",
    "import numpy as np"
   ]
  },
  {
   "cell_type": "code",
   "execution_count": null,
   "metadata": {},
   "outputs": [],
   "source": [
    "direccion = 'obj'\n",
    "x = os.listdir(direccion)\n",
    "for carpeta in x:\n",
    "    print(carpeta)\n",
    "    os.mkdir(direccion + '/' + carpeta + '/ploteos')\n",
    "    y = os.listdir(direccion + '/' +carpeta + '/RGB/')\n",
    "    for j in range (0,len(y)):\n",
    "        if os.path.lexists(direccion + '/' + carpeta + '/Octree/grid_{}.npy'.format(j)) == True:\n",
    "            occupancy_probs = np.load(direccion + '/' + carpeta + '/Octree/grid_{}.npy'.format(j))\n",
    "            showGrid(occupancy_probs, direccion + '/' + carpeta + \"/ploteos/{}.png\".format(j))"
   ]
  },
  {
   "cell_type": "markdown",
   "metadata": {},
   "source": [
    "### Tabla de latex"
   ]
  },
  {
   "cell_type": "code",
   "execution_count": null,
   "metadata": {},
   "outputs": [],
   "source": [
    "import numpy as np\n",
    "from tabulate import tabulate\n",
    "\n",
    "inf = 0 \n",
    "sup = datos['numero'][0]+1\n",
    "chamfer = []\n",
    "distancia = []\n",
    "for i in range(0,len(datos['numero'])):\n",
    "    #print(inf,sup)\n",
    "    if i == 49:\n",
    "       chamfer.append(datos['chamfer'][sup-1])\n",
    "       distancia.append(datos['distancias'][sup-1])\n",
    "    else: \n",
    "        chamfer.append(datos['chamfer'][sup-1])\n",
    "        distancia.append(datos['distancias'][sup-1])\n",
    "        sup = sup + datos['numero'][i+1] + 1"
   ]
  },
  {
   "cell_type": "code",
   "execution_count": null,
   "metadata": {},
   "outputs": [],
   "source": [
    "obj = datos['obj'].reshape((50,1))\n",
    "num_vis = datos['numero'].reshape((50,1))\n",
    "chamfer_np = np.array(chamfer).reshape((50,1))\n",
    "distancia_np = np.array(distancia).reshape((50,1))\n",
    "#hs = np.concatenate((obj,num_vis,chamfer_np,distancia_np), axis=1)\n",
    "hs = np.concatenate((obj,num_vis,chamfer_np,distancia_np), axis=1).tolist()\n",
    "#hs1 = np.concatenate((num_vis,chamfer_np,distancia_np), axis=1).tolist()\n",
    "# Define los encabezados de las columnas (opcional)\n",
    "headers = [\"Objeto\", \"Número de vistas\", \"Distancia de Chamfer\", \"Superficie de cobertura\"]\n",
    "#headersm = [\"Distancia de Chamfer\", \"Superficie de cobertura\"]\n",
    "\n",
    "# Genera la tabla LaTeX utilizando tabulate\n",
    "latex_table = tabulate(hs, headers=headers, tablefmt=\"latex\")\n",
    "#latex_table1 = tabulate(hs1, headers=headersm, tablefmt=\"latex\")\n",
    "# Imprime la tabla LaTeX\n",
    "print(latex_table)\n",
    "#print(latex_table1)"
   ]
  },
  {
   "cell_type": "markdown",
   "metadata": {},
   "source": [
    "### Imágenes"
   ]
  },
  {
   "cell_type": "code",
   "execution_count": null,
   "metadata": {},
   "outputs": [],
   "source": [
    "import cv2\n",
    "import os"
   ]
  },
  {
   "cell_type": "code",
   "execution_count": null,
   "metadata": {},
   "outputs": [],
   "source": [
    "direccion = 'obj'\n",
    "x = os.listdir(direccion)\n",
    "\n",
    "for carpeta in x:\n",
    "    y = os.listdir(os.path.join(direccion, carpeta, 'ploteos'))\n",
    "    \n",
    "    # Lista para almacenar las imágenes de cada grupo de 5\n",
    "    imagenes_grupo = []\n",
    "    \n",
    "    for i, imagen in enumerate(y):\n",
    "        ruta_imagen = os.path.join(direccion, carpeta, 'ploteos', imagen)\n",
    "        img = cv2.imread(ruta_imagen)\n",
    "        \n",
    "        # Verificar si la imagen se cargó correctamente\n",
    "        if img is not None:\n",
    "            imagenes_grupo.append(img)\n",
    "        else:\n",
    "            print(f\"Error al cargar la imagen: {ruta_imagen}\")\n",
    "        \n",
    "        # Si hemos alcanzado el grupo de 5 imágenes o es la última imagen, concatenamos\n",
    "        if (i + 1) % 5 == 0 or i == len(y) - 1:\n",
    "            # Verificar si hay imágenes en el grupo antes de concatenar\n",
    "            if imagenes_grupo:\n",
    "                # Concatenar imágenes horizontalmente\n",
    "                imagen_concatenada = cv2.hconcat(imagenes_grupo)\n",
    "                \n",
    "                # Guardar o mostrar la imagen concatenada\n",
    "                cv2.imwrite(os.path.join(direccion, carpeta, f'concatenadas_{i // 5}.jpg'), imagen_concatenada)\n",
    "                \n",
    "                # Limpiar la lista de imágenes del grupo actual\n",
    "                imagenes_grupo = []\n",
    "            else:\n",
    "                print(f\"No hay imágenes suficientes para concatenar en el grupo {i // 5} en la carpeta {carpeta}\")"
   ]
  },
  {
   "cell_type": "code",
   "execution_count": null,
   "metadata": {},
   "outputs": [],
   "source": [
    "imagen_concatenada"
   ]
  },
  {
   "cell_type": "code",
   "execution_count": null,
   "metadata": {},
   "outputs": [],
   "source": []
  },
  {
   "cell_type": "code",
   "execution_count": null,
   "metadata": {},
   "outputs": [],
   "source": [
    "import open3d as o3d\n",
    "import numpy as np\n",
    "\n",
    "def plot_camera(intrinsic_matrix, extrinsic_matrix, width, height, scale=0.1, color=[0.8, 0.2, 0.8]):\n",
    "    # Crear el marco de la cámara\n",
    "    camera_frame = o3d.geometry.TriangleMesh.create_coordinate_frame(size=scale)\n",
    "    camera_frame.transform(extrinsic_matrix)\n",
    "\n",
    "    # Calcular las esquinas de la imagen en el espacio de la cámara\n",
    "    half_width = width / 2\n",
    "    half_height = height / 2\n",
    "\n",
    "    # Puntos en coordenadas de píxeles\n",
    "    pix_points = np.array([\n",
    "        [0, 0, 1],  # esquina superior izquierda\n",
    "        [width, 0, 1],  # esquina superior derecha\n",
    "        [width, height, 1],  # esquina inferior derecha\n",
    "        [0, height, 1]  # esquina inferior izquierda\n",
    "    ]).T\n",
    "\n",
    "    # Convertir a coordenadas de la cámara usando la inversa de la matriz intrínseca\n",
    "    intrinsic_inv = np.linalg.inv(intrinsic_matrix)\n",
    "    cam_points = intrinsic_inv @ pix_points\n",
    "\n",
    "    # Transformar a coordenadas del mundo usando la matriz extrínseca\n",
    "    world_points = extrinsic_matrix[:3, :3] @ cam_points[:3, :] + extrinsic_matrix[:3, 3:4]\n",
    "\n",
    "    # Crear la pirámide de visión\n",
    "    points = [extrinsic_matrix[:3, 3]] + [world_points[:, i] for i in range(4)]\n",
    "    points = np.array(points)\n",
    "    lines = [[0, 1], [0, 2], [0, 3], [0, 4], [1, 2], [2, 3], [3, 4], [4, 1]]\n",
    "    colors = [color for i in range(len(lines))]\n",
    "\n",
    "    line_set = o3d.geometry.LineSet(\n",
    "        points=o3d.utility.Vector3dVector(points),\n",
    "        lines=o3d.utility.Vector2iVector(lines)\n",
    "    )\n",
    "    line_set.colors = o3d.utility.Vector3dVector(colors)\n",
    "\n",
    "    return [camera_frame, line_set]\n",
    "\n",
    "# Ejemplo de uso\n",
    "# Definir la matriz intrínseca\n",
    "fov = 30  # campo de visión en grados\n",
    "width = 100  # ancho de la imagen\n",
    "height = 100  # alto de la imagen\n",
    "fov_rad = np.deg2rad(fov)\n",
    "focal_length = width / (2 * np.tan(fov_rad / 2))\n",
    "\n",
    "intrinsic_matrix = np.array([\n",
    "    [focal_length, 0, width / 2],\n",
    "    [0, focal_length, height / 2],\n",
    "    [0, 0, 1]\n",
    "])\n",
    "\n",
    "# Definir la matriz extrínseca (identidad en este caso, la cámara en el origen)\n",
    "extrinsic_matrix = np.asarray([\n",
    "\t\t\t\t0.24592144084460449,\n",
    "\t\t\t\t0.0,\n",
    "\t\t\t\t-0.20190031075980167,\n",
    "\t\t\t\t0.0,\n",
    "\t\t\t\t-0.024095638818560146,\n",
    "\t\t\t\t0.096829775473921173,\n",
    "\t\t\t\t-0.029349307061647612,\n",
    "\t\t\t\t0.0,\n",
    "\t\t\t\t0.19310303407831159,\n",
    "\t\t\t\t0.11934423839112578,\n",
    "\t\t\t\t0.23520605883811269,\n",
    "\t\t\t\t0.0,\n",
    "\t\t\t\t0.49999999999999994,\n",
    "\t\t\t\t0.3090169943749474,\n",
    "\t\t\t\t0.80901699437494734,\n",
    "\t\t\t\t1.0\n",
    "\t\t\t]).reshape(4,4)\n",
    "\n",
    "# Crear la geometría de la cámara\n",
    "camera_geometry = plot_camera(intrinsic_matrix, extrinsic_matrix, width, height)\n",
    "\n",
    "# Crear una visualización\n",
    "vis = o3d.visualization.Visualizer()\n",
    "vis.create_window()\n",
    "\n",
    "# Agregar geometría de la cámara a la visualización\n",
    "mesh = o3d.geometry.TriangleMesh.create_coordinate_frame(size=0.025)\n",
    "for geom in camera_geometry:\n",
    "    vis.add_geometry(geom)\n",
    "    vis.add_geometry(mesh)\n",
    "\n",
    "# Configuración de la visualización\n",
    "vis.get_render_option().background_color = np.array([0, 0, 0])  # Fondo negro\n",
    "\n",
    "# Ejecutar la visualización\n",
    "vis.run()\n",
    "vis.destroy_window()"
   ]
  },
  {
   "cell_type": "code",
   "execution_count": null,
   "metadata": {},
   "outputs": [],
   "source": []
  }
 ],
 "metadata": {
  "kernelspec": {
   "display_name": "o3d",
   "language": "python",
   "name": "python3"
  },
  "language_info": {
   "codemirror_mode": {
    "name": "ipython",
    "version": 3
   },
   "file_extension": ".py",
   "mimetype": "text/x-python",
   "name": "python",
   "nbconvert_exporter": "python",
   "pygments_lexer": "ipython3",
   "version": "3.11.7"
  }
 },
 "nbformat": 4,
 "nbformat_minor": 2
}
